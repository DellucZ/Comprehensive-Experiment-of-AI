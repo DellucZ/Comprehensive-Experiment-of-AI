{
 "cells": [
  {
   "cell_type": "code",
   "execution_count": 2,
   "metadata": {},
   "outputs": [
    {
     "name": "stdout",
     "output_type": "stream",
     "text": [
      "Downloading https://www.cs.toronto.edu/~kriz/cifar-10-python.tar.gz to ./data\\cifar-10-python.tar.gz\n",
      "Failed download. Trying https -> http instead. Downloading http://www.cs.toronto.edu/~kriz/cifar-10-python.tar.gz to ./data\\cifar-10-python.tar.gz\n"
     ]
    },
    {
     "data": {
      "application/vnd.jupyter.widget-view+json": {
       "model_id": "e98f141160994710a740e9bf3f576a59",
       "version_major": 2,
       "version_minor": 0
      },
      "text/plain": [
       "  0%|          | 0/170498071 [00:00<?, ?it/s]"
      ]
     },
     "metadata": {},
     "output_type": "display_data"
    },
    {
     "name": "stdout",
     "output_type": "stream",
     "text": [
      "Extracting ./data\\cifar-10-python.tar.gz to ./data\n",
      "Files already downloaded and verified\n",
      "train length: 20\n",
      "test_length: 20\n",
      "spend time:  0.0498659610748291\n",
      "total_loss: 2.3028292655944824   train_correct: 0.15   test_correct: 0.15\n",
      "spend time:  0.011968374252319336\n",
      "total_loss: 2.285966157913208   train_correct: 0.1575   test_correct: 0.1575\n",
      "spend time:  0.0069811344146728516\n",
      "total_loss: 2.2681946754455566   train_correct: 0.15787500000000002   test_correct: 0.25787499999999997\n",
      "spend time:  0.007977724075317383\n",
      "total_loss: 2.2471442222595215   train_correct: 0.25789375   test_correct: 0.41289375\n",
      "spend time:  0.00797891616821289\n",
      "total_loss: 2.2206571102142334   train_correct: 0.41289468749999997   test_correct: 0.3206446875\n",
      "spend time:  0.006982326507568359\n",
      "total_loss: 2.186767339706421   train_correct: 0.32064473437499996   test_correct: 0.216032234375\n",
      "spend time:  0.007977724075317383\n",
      "total_loss: 2.1448464393615723   train_correct: 0.21603223671875   test_correct: 0.26080161171875\n",
      "spend time:  0.007978439331054688\n",
      "total_loss: 2.0939886569976807   train_correct: 0.2608016118359375   test_correct: 0.26304008058593753\n",
      "spend time:  0.007979154586791992\n",
      "total_loss: 2.0340564250946045   train_correct: 0.26304008059179684   test_correct: 0.26315200402929684\n",
      "spend time:  0.009973526000976562\n",
      "total_loss: 1.9678871631622314   train_correct: 0.2631520040295898   test_correct: 0.26315760020146484\n",
      "spend time:  0.01196742057800293\n",
      "total_loss: 1.9006145000457764   train_correct: 0.2631576002014795   test_correct: 0.26315788001007323\n",
      "spend time:  0.009972572326660156\n",
      "total_loss: 1.8365370035171509   train_correct: 0.26315788001007395   test_correct: 0.26315789400050366\n",
      "spend time:  0.007978200912475586\n",
      "total_loss: 1.7785158157348633   train_correct: 0.2631578940005037   test_correct: 0.3131578947000252\n",
      "spend time:  0.007978677749633789\n",
      "total_loss: 1.7180898189544678   train_correct: 0.3131578947000252   test_correct: 0.3156578947350013\n",
      "spend time:  0.007979154586791992\n",
      "total_loss: 1.6489444971084595   train_correct: 0.3156578947350013   test_correct: 0.3157828947367501\n"
     ]
    }
   ],
   "source": [
    "import torch\n",
    "import torch.nn as nn\n",
    "import torch.optim as optim\n",
    "import torch.nn.functional as F\n",
    "import torchvision\n",
    "import torchvision.transforms as transforms\n",
    "import time\n",
    "import matplotlib.pyplot as plt\n",
    "K = 20 # 仅仅使用5000个样本数据进行训练\n",
    "\n",
    "transform = transforms.Compose([\n",
    "    transforms.ToTensor(),\n",
    "    transforms.Normalize((0.5, 0.5, 0.5), (0.5, 0.5, 0.5))\n",
    "])\n",
    "# 数据自动下载链接，并保存到本地\n",
    "train_data = torchvision.datasets.CIFAR10(root='./data', train=True,\n",
    "                                          download=True, transform=transform)\n",
    "test_data = torchvision.datasets.CIFAR10(root='./data', train=False,\n",
    "                                         download=True, transform=transform)\n",
    "train_loader = torch.utils.data.DataLoader(train_data, batch_size=32, shuffle=True)\n",
    "test_loader = torch.utils.data.DataLoader(test_data, batch_size=32, shuffle=True)\n",
    "\n",
    "# 如果使用全部训练数据，请注释掉下边四行\n",
    "train_data.data = train_data.data[:K]\n",
    "train_data.targets = train_data.targets[:K]\n",
    "test_data.data = test_data.data[:K]\n",
    "test_data.targets = test_data.targets[:K]\n",
    "\n",
    "train_len = len(train_data)\n",
    "test_len = len(test_data)\n",
    "print('train length:', train_len)\n",
    "print('test_length:', test_len)\n",
    "\n",
    "\n",
    "class LeNet(nn.Module):\n",
    "    def __init__(self):\n",
    "        super(LeNet, self).__init__()\n",
    "        self.conv1 = nn.Conv2d(3, 6, 5)\n",
    "        self.relu = nn.ReLU()\n",
    "        self.maxpool1 = nn.MaxPool2d(2, 2)\n",
    "        self.conv2 = nn.Conv2d(6, 16, 5)\n",
    "        self.maxpool2 = nn.MaxPool2d(2, 2)\n",
    "\n",
    "        self.fc1 = nn.Linear(16 * 5 * 5, 120)\n",
    "        self.fc2 = nn.Linear(120, 84)\n",
    "        self.fc3 = nn.Linear(84, 10)\n",
    "\n",
    "    def forward(self, x):\n",
    "        x = self.conv1(x)\n",
    "        x = self.relu(x)\n",
    "        x = self.maxpool1(x)\n",
    "        x = self.conv2(x)\n",
    "        x = self.relu(x)\n",
    "        x = self.maxpool2(x)\n",
    "        x = x.view(-1, 16 * 5 * 5)\n",
    "        x = F.relu(self.fc1(x))\n",
    "        x = F.relu(self.fc2(x))\n",
    "        x = self.fc3(x)\n",
    "        return x\n",
    "\n",
    "\n",
    "lenet = LeNet()\n",
    "lenet = lenet\n",
    "optimzer = optim.Adam(lenet.parameters(), lr=0.001)\n",
    "loss_function = nn.CrossEntropyLoss()\n",
    "\n",
    "train_correct = 0\n",
    "test_correct = 0\n",
    "t_acc = []\n",
    "v_acc = []\n",
    "losses = []\n",
    "# 设置训练次数为5次\n",
    "for epoch in range(15):\n",
    "    total_loss = 0\n",
    "    cnt = 0\n",
    "    start_time = time.time()\n",
    "    for batch in train_loader:\n",
    "        images, labels = batch\n",
    "        outputs = lenet(images)\n",
    "        loss = loss_function(outputs, labels)\n",
    "        optimzer.zero_grad()\n",
    "        loss.backward()\n",
    "        optimzer.step()\n",
    "        total_loss += loss.item()\n",
    "        train_correct += outputs.argmax(dim=1).eq(labels).sum().item()\n",
    "        cnt += 1\n",
    "        if cnt % 1000 == 0:\n",
    "            print('cnt: ', cnt)\n",
    "    end_time = time.time()\n",
    "    print('spend time: ', end_time-start_time)\n",
    "    train_correct = train_correct / train_len\n",
    "    t_acc.append(train_correct)\n",
    "    for batch in test_loader:\n",
    "        images.labels = batch\n",
    "        out = lenet(images)\n",
    "        test_correct += out.argmax(dim=1).eq(labels).sum().item()\n",
    "    test_correct = test_correct / test_len\n",
    "    v_acc.append(test_correct)\n",
    "    losses.append(total_loss)\n",
    "    \n",
    "    print('total_loss:', total_loss, '  train_correct:', train_correct, '  test_correct:', test_correct)\n"
   ]
  },
  {
   "cell_type": "code",
   "execution_count": 3,
   "metadata": {},
   "outputs": [
    {
     "data": {
      "image/png": "[encoded data removed]",
      "text/plain": [
       "<Figure size 432x288 with 1 Axes>"
      ]
     },
     "metadata": {
      "needs_background": "light"
     },
     "output_type": "display_data"
    }
   ],
   "source": [
    "losses = [2.8983,2.3459,2.0180,1.7635,1.5710]\n",
    "plt.plot(losses)\n",
    "plt.show()"
   ]
  },
  {
   "cell_type": "code",
   "execution_count": 19,
   "metadata": {},
   "outputs": [
    {
     "data": {
      "image/png": "[encoded data removed]",
      "text/plain": [
       "<Figure size 432x288 with 1 Axes>"
      ]
     },
     "metadata": {
      "needs_background": "light"
     },
     "output_type": "display_data"
    }
   ],
   "source": [
    "t_acc= [0.2885,\n",
    "0.2836,\n",
    "0.2198,\n",
    "0.4695,\n",
    "0.7825,\n",
    "0.4382,\n",
    "\n",
    "]\n",
    "plt.plot(t_acc)\n",
    "plt.show()"
   ]
  },
  {
   "cell_type": "code",
   "execution_count": 6,
   "metadata": {},
   "outputs": [
    {
     "data": {
      "image/png": "[encoded data removed]",
      "text/plain": [
       "<Figure size 432x288 with 1 Axes>"
      ]
     },
     "metadata": {
      "needs_background": "light"
     },
     "output_type": "display_data"
    }
   ],
   "source": [
    "plt.plot(v_acc)\n",
    "plt.show()"
   ]
  },
  {
   "cell_type": "code",
   "execution_count": null,
   "metadata": {},
   "outputs": [],
   "source": []
  }
 ],
 "metadata": {
  "kernelspec": {
   "display_name": "Python [conda env:pytorch]",
   "language": "python",
   "name": "conda-env-pytorch-py"
  },
  "language_info": {
   "codemirror_mode": {
    "name": "ipython",
    "version": 3
   },
   "file_extension": ".py",
   "mimetype": "text/x-python",
   "name": "python",
   "nbconvert_exporter": "python",
   "pygments_lexer": "ipython3",
   "version": "3.7.10"
  }
 },
 "nbformat": 4,
 "nbformat_minor": 4
}
